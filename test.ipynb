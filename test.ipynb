{
 "cells": [
  {
   "cell_type": "code",
   "execution_count": 1,
   "id": "8071bb05",
   "metadata": {},
   "outputs": [
    {
     "data": {
      "text/plain": [
       "(258510.3305323864, 72097.40441816258, 86214.00576282074, 100198.9203514031)"
      ]
     },
     "execution_count": 1,
     "metadata": {},
     "output_type": "execute_result"
    }
   ],
   "source": [
    "# Задані дані\n",
    "subscription_cost = 12  # Вартість місячної підписки, $/місяць\n",
    "retention_rate = 0.92  # Коефіцієнт утримання користувачів щомісяця\n",
    "months_april = 39  # Кількість місяців від квітня 2020 до липня 2023\n",
    "months_may = 38  # Кількість місяців від травня 2020 до липня 2023\n",
    "months_june = 37  # Кількість місяців від червня 2020 до липня 2023\n",
    "\n",
    "# Кількість користувачів, що приєдналися в кожному місяці\n",
    "initial_users_april = 500\n",
    "initial_users_may = 600\n",
    "initial_users_june = 700\n",
    "\n",
    "# Функція для обчислення доходу за певний період з урахуванням утримання користувачів\n",
    "def calculate_revenue(initial_users, months, cost_per_month, retention_rate):\n",
    "    revenue = 0\n",
    "    for month in range(months):\n",
    "        revenue += initial_users * (retention_rate ** month) * cost_per_month\n",
    "    return revenue\n",
    "\n",
    "# Розрахунок доходу для кожного місяця\n",
    "revenue_april = calculate_revenue(initial_users_april, months_april, subscription_cost, retention_rate)\n",
    "revenue_may = calculate_revenue(initial_users_may, months_may, subscription_cost, retention_rate)\n",
    "revenue_june = calculate_revenue(initial_users_june, months_june, subscription_cost, retention_rate)\n",
    "\n",
    "# Загальний дохід\n",
    "total_revenue = revenue_april + revenue_may + revenue_june\n",
    "total_revenue, revenue_april, revenue_may, revenue_june\n"
   ]
  },
  {
   "cell_type": "code",
   "execution_count": null,
   "id": "08e4eea4",
   "metadata": {},
   "outputs": [],
   "source": []
  }
 ],
 "metadata": {
  "kernelspec": {
   "display_name": "Python 3 (ipykernel)",
   "language": "python",
   "name": "python3"
  },
  "language_info": {
   "codemirror_mode": {
    "name": "ipython",
    "version": 3
   },
   "file_extension": ".py",
   "mimetype": "text/x-python",
   "name": "python",
   "nbconvert_exporter": "python",
   "pygments_lexer": "ipython3",
   "version": "3.9.13"
  }
 },
 "nbformat": 4,
 "nbformat_minor": 5
}
