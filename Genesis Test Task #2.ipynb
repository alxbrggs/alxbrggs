{
 "cells": [
  {
   "cell_type": "markdown",
   "id": "8be00464",
   "metadata": {},
   "source": [
    "## Завдання 2"
   ]
  },
  {
   "cell_type": "markdown",
   "id": "52e80ad2",
   "metadata": {},
   "source": [
    "## Виправимо затримку із додаванням в базу даних"
   ]
  },
  {
   "cell_type": "markdown",
   "id": "dcb593e3",
   "metadata": {},
   "source": [
    "``` mysql \n",
    "UPDATE marketing_cost\n",
    "SET date_column = DATE_SUB(install_date, INTERVAL 1 DAY)\n",
    "WHERE platfrom = 'iOS' AND media_source = 'applovin_int';\n",
    "```"
   ]
  },
  {
   "cell_type": "markdown",
   "id": "14e7f0af",
   "metadata": {},
   "source": [
    "## Запит для звіту"
   ]
  },
  {
   "cell_type": "markdown",
   "id": "f05f663b",
   "metadata": {},
   "source": [
    "``` mysql \n",
    "SELECT \n",
    "    ua.install_date, \n",
    "    ua.platform, \n",
    "    ua.media_source,\n",
    "    SUM(CASE WHEN DATEDIFF(ur.event_time, ua.install_time) = 0 THEN ur.amount ELSE 0 END) / mc.cost AS ROAS_d0,\n",
    "    SUM(CASE WHEN DATEDIFF(ur.event_time, ua.install_time) = 0 AND ua.install_time BETWEEN DATE_SUB(mc.install_date, INTERVAL 6 DAY) AND mc.install_date THEN ur.amount ELSE 0 END) / SUM(CASE WHEN ua.install_time BETWEEN DATE_SUB(mc.install_date, INTERVAL 6 DAY) AND mc.install_date THEN mc.cost ELSE 0 END) AS ROAS_d0_weekly\n",
    "FROM \n",
    "    user_attribute AS ua\n",
    "JOIN \n",
    "    user_revenue AS ur ON ua.user_id = ur.user_id\n",
    "JOIN \n",
    "    marketing_cost AS mc ON ua.platform = mc.platform AND ua.media_source = mc.media_source AND DATE(ua.install_time) = mc.install_date\n",
    "WHERE \n",
    "    MONTH(ua.install_time) = 6 AND YEAR(ua.install_time) = YEAR(CURRENT_DATE) \n",
    "GROUP BY \n",
    "    ua.install_date, ua.platform, ua.media_source\n",
    "HAVING \n",
    "    ROAS_d0_weekly > 30\n",
    "ORDER BY \n",
    "    ua.install_date, ua.platform, ua.media_source;\n",
    "```"
   ]
  },
  {
   "cell_type": "markdown",
   "id": "7c47dbb5",
   "metadata": {},
   "source": [
    "### ROAS_d0\n",
    "``` mysql SUM(CASE WHEN DATEDIFF(ur.event_time, ua.install_time) = 0 THEN ur.amount ELSE 0 END) / mc.cost: ```\n",
    "\n",
    "\n",
    "Тут ми обчислюємо суму платежів (ur.amount), які відбулися в той же день, що і встановлення \n",
    "```mysql (DATEDIFF(ur.event_time, ua.install_time) = 0), ```\n",
    "і ділимо цю суму на витрати на рекламу (mc.cost) для цієї групи."
   ]
  },
  {
   "cell_type": "markdown",
   "id": "da2187ce",
   "metadata": {},
   "source": [
    "### ROAS_d0_weekly\n",
    "Тут ми робимо суму платежів за ті ж умови, але також враховуємо, що встановлення застосунку відбулося протягом попередніх 7 днів\n",
    "\n",
    "``` mysql (ua.install_time BETWEEN DATE_SUB(mc.install_date, INTERVAL 6 DAY) AND mc.install_date) ```"
   ]
  },
  {
   "cell_type": "markdown",
   "id": "0789e6c0",
   "metadata": {},
   "source": [
    "##  Загалом, цей запит виконує наступне:\n",
    "Приєднує таблиці user_attribute, user_revenue, і marketing_cost за спільними ключами.\n",
    "\n",
    "Враховує транзакції, що відбулись в першу добу після встановлення.\n",
    "\n",
    "Групує дані за install_date, platform, і media_source.\n",
    "\n",
    "Обчислює ROAS_d0 і ROAS_d0_weekly для кожної групи.\n",
    "\n",
    "Вибирає лише ті записи, де ROAS_d0_weekly більше за 30.\n",
    "\n",
    "Сортує результати за датою установки, платформою та джерелом трафіку."
   ]
  },
  {
   "cell_type": "code",
   "execution_count": null,
   "id": "d742b2a4",
   "metadata": {},
   "outputs": [],
   "source": []
  }
 ],
 "metadata": {
  "kernelspec": {
   "display_name": "Python 3 (ipykernel)",
   "language": "python",
   "name": "python3"
  },
  "language_info": {
   "codemirror_mode": {
    "name": "ipython",
    "version": 3
   },
   "file_extension": ".py",
   "mimetype": "text/x-python",
   "name": "python",
   "nbconvert_exporter": "python",
   "pygments_lexer": "ipython3",
   "version": "3.9.13"
  }
 },
 "nbformat": 4,
 "nbformat_minor": 5
}
