{
 "cells": [
  {
   "cell_type": "markdown",
   "id": "6b29175d",
   "metadata": {},
   "source": [
    "# Test task #1"
   ]
  },
  {
   "cell_type": "markdown",
   "id": "dc8a84c7",
   "metadata": {},
   "source": [
    "### Tableau Workbook on the link below:\n",
    "https://drive.google.com/file/d/17VdelhivhrZuhB8dUEON92evNqgyTRn1/view?usp=share_link"
   ]
  },
  {
   "cell_type": "markdown",
   "id": "84bc2987",
   "metadata": {},
   "source": [
    "# Test task #2"
   ]
  },
  {
   "attachments": {},
   "cell_type": "markdown",
   "id": "986c83bc",
   "metadata": {},
   "source": [
    "## 1. Кількість клієнтів для кожної країни з телефонним номером"
   ]
  },
  {
   "cell_type": "markdown",
   "id": "261b491f",
   "metadata": {},
   "source": [
    "``` mysql\n",
    "SELECT\n",
    "    CUST.CUST_COUNTRY,\n",
    "    COUNT(DISTINCT CUST.CUST_ID) AS CUSTOMER_COUNT\n",
    "FROM\n",
    "    CUSTOMER CUST\n",
    "JOIN\n",
    "    AGENT AG\n",
    "    ON CUST.AGENT_ID = AG.AGENT_ID\n",
    "WHERE\n",
    "    CUST.PHONE_NO IS NOT NULL\n",
    "GROUP BY\n",
    "    CUST.CUST_COUNTRY\n",
    "```"
   ]
  },
  {
   "attachments": {},
   "cell_type": "markdown",
   "id": "379ffb18",
   "metadata": {},
   "source": [
    "## 2. Кількість клієнтів, зробивших своє перше замовлення у серпні 2020 року:"
   ]
  },
  {
   "cell_type": "markdown",
   "id": "ec554a5d",
   "metadata": {},
   "source": [
    "``` mysql\n",
    "SELECT\n",
    "    COUNT(DISTINCT CUST.CUST_ID) AS FIRST_TIME_CUSTOMERS\n",
    "FROM\n",
    "    CUSTOMER CUST\n",
    "JOIN\n",
    "    ORDERS ORD\n",
    "    ON CUST.CUST_ID = ORD.CUST_ID\n",
    "WHERE\n",
    "    ORD.ORD_DATE >= '2020-08-01' AND ORD.ORD_DATE < '2020-09-01' AND\n",
    "    NOT EXISTS (\n",
    "        SELECT 1\n",
    "        FROM ORDERS\n",
    "        WHERE CUST.CUST_ID = ORDERS.CUST_ID AND ORDERS.ORD_DATE < '2020-08-01'\n",
    "    )\n",
    "```"
   ]
  },
  {
   "cell_type": "markdown",
   "id": "13b88460",
   "metadata": {},
   "source": [
    "## 3. Загальна сума замовлень від покупців з України (ORD_AMOUNT):"
   ]
  },
  {
   "cell_type": "markdown",
   "id": "f6cb3ebc",
   "metadata": {},
   "source": [
    "``` mysql\n",
    "SELECT\n",
    "    SUM(ORD.ORD_AMOUNT) AS TOTAL_ORDER_AMOUNT_UKRAINE\n",
    "FROM\n",
    "    CUSTOMER CUST\n",
    "JOIN\n",
    "    ORDERS ORD\n",
    "    ON CUST.CUST_ID = ORD.CUST_ID\n",
    "WHERE\n",
    "    CUST.CUST_COUNTRY = 'UA'\n",
    "```"
   ]
  },
  {
   "cell_type": "markdown",
   "id": "0e0df016",
   "metadata": {},
   "source": [
    "## 4. Кількість унікальних ORD_NAME для агента 'James Blond' з покупцем 'Jack White':"
   ]
  },
  {
   "cell_type": "markdown",
   "id": "131a20e7",
   "metadata": {},
   "source": [
    "``` mysql\n",
    "SELECT\n",
    "    COUNT(DISTINCT ORD.ORD_NAME) AS UNIQUE_ORDERS_COUNT\n",
    "FROM\n",
    "    AGENT A\n",
    "JOIN\n",
    "    CUSTOMER C\n",
    "    ON A.AGENT_ID = C.AGENT_ID\n",
    "JOIN\n",
    "    ORDERS ORD\n",
    "    ON C.CUST_ID = ORD.CUST_ID\n",
    "WHERE\n",
    "    A.AGENT_NAME = 'James Blond' AND\n",
    "    C.CUST_NAME = 'Jack White';\n",
    "```"
   ]
  },
  {
   "cell_type": "markdown",
   "id": "0b440aa8",
   "metadata": {},
   "source": [
    "## 5. Топ-3 найпопулярніших ORD_NAME по кількості замовлень та суммі"
   ]
  },
  {
   "cell_type": "markdown",
   "id": "391636af",
   "metadata": {},
   "source": [
    "``` mysql\n",
    "SELECT\n",
    "    ORD_NAME,\n",
    "    COUNT(*) AS ORDER_COUNT,\n",
    "    SUM(ORD_AMOUNT) AS TOTAL_AMOUNT\n",
    "FROM\n",
    "    ORDERS\n",
    "GROUP BY\n",
    "    ORD_NAME\n",
    "ORDER BY\n",
    "    ORDER_COUNT DESC, TOTAL_AMOUNT DESC\n",
    "LIMIT 3;\n",
    "```"
   ]
  },
  {
   "cell_type": "markdown",
   "id": "3caaf520",
   "metadata": {},
   "source": [
    "## 6. Кількість покупців, які зробили мінімум 5 покупок від 300 доларів кожна за 2020 рік і у них немає жодної покупки у 2021 році"
   ]
  },
  {
   "cell_type": "markdown",
   "id": "a6133c78",
   "metadata": {},
   "source": [
    "``` mysql\n",
    "SELECT\n",
    "    COUNT(DISTINCT CUST.CUST_ID) AS CUSTOMER_COUNT\n",
    "FROM\n",
    "    CUSTOMER CUST\n",
    "JOIN\n",
    "    ORDERS ORD_2020\n",
    "    ON CUST.CUST_ID = ORD_2020.CUST_ID\n",
    "WHERE\n",
    "    ORD_2020.ORD_DATE >= '2020-01-01' AND ORD_2020.ORD_DATE < '2021-01-01' AND\n",
    "    ORD_2020.ORD_AMOUNT >= 300 AND\n",
    "    (\n",
    "        SELECT COUNT(*)\n",
    "        FROM ORDERS ORD_2021\n",
    "        WHERE CUST.CUST_ID = ORD_2021.CUST_ID AND ORD_2021.ORD_DATE >= '2021-01-01'\n",
    "    ) = 0\n",
    "GROUP BY\n",
    "    CUST.CUST_ID\n",
    "HAVING\n",
    "    COUNT(DISTINCT ORD_2020.ORD_ID) >= 5;\n",
    "```"
   ]
  },
  {
   "cell_type": "markdown",
   "id": "f59e41d8",
   "metadata": {},
   "source": [
    "## 6. Кількість покупців, які зробили мінімум 5 покупок від 300 доларів кожна за 2020 рік і у них немає жодної покупки у 2021 році"
   ]
  },
  {
   "cell_type": "markdown",
   "id": "59eaaf45",
   "metadata": {},
   "source": [
    "``` mysql\n",
    "SELECT\n",
    "    COUNT(DISTINCT CUST.CUST_ID) AS CUSTOMER_COUNT\n",
    "FROM\n",
    "    CUSTOMER CUST\n",
    "JOIN\n",
    "    ORDERS ORD_2020\n",
    "    ON CUST.CUST_ID = ORD_2020.CUST_ID\n",
    "WHERE\n",
    "    ORD_2020.ORD_DATE >= '2020-01-01' AND ORD_2020.ORD_DATE < '2021-01-01' AND\n",
    "    ORD_2020.ORD_AMOUNT >= 300 AND\n",
    "    (\n",
    "        SELECT COUNT(*)\n",
    "        FROM ORDERS ORD_2021\n",
    "        WHERE CUST.CUST_ID = ORD_2021.CUST_ID AND ORD_2021.ORD_DATE >= '2021-01-01'\n",
    "    ) = 0\n",
    "GROUP BY\n",
    "    CUST.CUST_ID\n",
    "HAVING\n",
    "    COUNT(DISTINCT ORD_2020.ORD_ID) >= 5;\n",
    "```"
   ]
  },
  {
   "cell_type": "markdown",
   "id": "bdf53418",
   "metadata": {},
   "source": [
    "## 7. Кількість покупців, у яких сума першої покупки більше 1000 доларів\t"
   ]
  },
  {
   "cell_type": "markdown",
   "id": "0d15e148",
   "metadata": {},
   "source": [
    "``` mysql\n",
    "SELECT\n",
    "    COUNT(DISTINCT CUST.CUST_ID) AS CUSTOMER_COUNT\n",
    "FROM\n",
    "    CUSTOMER CUST\n",
    "JOIN (\n",
    "    SELECT\n",
    "        CUST_ID,\n",
    "        MIN(ORD_DATE) AS FIRST_ORDER_DATE\n",
    "    FROM\n",
    "        ORDERS\n",
    "    GROUP BY\n",
    "        CUST_ID\n",
    ") FIRST_ORDERS\n",
    "ON\n",
    "    CUST.CUST_ID = FIRST_ORDERS.CUST_ID\n",
    "JOIN\n",
    "    ORDERS ORD\n",
    "ON\n",
    "    CUST.CUST_ID = ORD.CUST_ID AND FIRST_ORDERS.FIRST_ORDER_DATE = ORD.ORD_DATE\n",
    "WHERE\n",
    "    ORD.ORD_AMOUNT > 1000;\n",
    "```"
   ]
  },
  {
   "cell_type": "markdown",
   "id": "59bb7472",
   "metadata": {},
   "source": [
    "## 8. Середню кількість і суму замовлень по понеділкам 2020 року"
   ]
  },
  {
   "cell_type": "markdown",
   "id": "92410ac0",
   "metadata": {},
   "source": [
    "``` mysql\n",
    "SELECT\n",
    "    DAYOFWEEK(ORD_DATE) AS DAY_OF_WEEK,\n",
    "    COUNT(*) AS ORDER_COUNT,\n",
    "    SUM(ORD_AMOUNT) AS TOTAL_AMOUNT,\n",
    "    AVG(ORD_AMOUNT) AS AVERAGE_AMOUNT\n",
    "FROM\n",
    "    ORDERS\n",
    "WHERE\n",
    "    YEAR(ORD_DATE) = 2020 AND DAYOFWEEK(ORD_DATE) = 2\n",
    "GROUP BY\n",
    "    DAY_OF_WEEK;\n",
    "```"
   ]
  },
  {
   "cell_type": "markdown",
   "id": "07ef797e",
   "metadata": {},
   "source": [
    "## 9. Кількість агентів із замовленнями за період 01.01.2020 - 30.01.2020\t"
   ]
  },
  {
   "cell_type": "markdown",
   "id": "7368bea3",
   "metadata": {},
   "source": [
    "``` mysql\n",
    "SELECT\n",
    "    COUNT(DISTINCT AGENT.AGENT_ID) AS AGENT_COUNT\n",
    "FROM\n",
    "    AGENT\n",
    "JOIN\n",
    "    ORDERS\n",
    "    ON AGENT.AGENT_ID = ORDERS.AGENT_ID\n",
    "WHERE\n",
    "    ORDERS.ORD_DATE >= '2020-01-01' AND ORDERS.ORD_DATE <= '2020-01-30';\n",
    "```"
   ]
  },
  {
   "attachments": {},
   "cell_type": "markdown",
   "id": "265b8b98",
   "metadata": {},
   "source": [
    "## 10. Привести телефонні номери до єдиного формату (у полі PHONE_NO номери можуть бути вказані таким чином"
   ]
  },
  {
   "cell_type": "markdown",
   "id": "d9fab6cb",
   "metadata": {},
   "source": [
    "``` mysql\n",
    "UPDATE CUSTOMER\n",
    "SET PHONE_NO = CONCAT('+380', SUBSTRING(PHONE_NO, -9))\n",
    "WHERE PHONE_NO NOT LIKE '+380%';\n",
    "```"
   ]
  }
 ],
 "metadata": {
  "kernelspec": {
   "display_name": "Python 3 (ipykernel)",
   "language": "python",
   "name": "python3"
  },
  "language_info": {
   "codemirror_mode": {
    "name": "ipython",
    "version": 3
   },
   "file_extension": ".py",
   "mimetype": "text/x-python",
   "name": "python",
   "nbconvert_exporter": "python",
   "pygments_lexer": "ipython3",
   "version": "3.9.13"
  }
 },
 "nbformat": 4,
 "nbformat_minor": 5
}
