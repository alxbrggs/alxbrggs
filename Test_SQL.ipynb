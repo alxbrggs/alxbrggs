{
 "cells": [
  {
   "cell_type": "markdown",
   "id": "38c61499",
   "metadata": {},
   "source": [
    "# SQL query #1"
   ]
  },
  {
   "cell_type": "markdown",
   "id": "3401607d",
   "metadata": {},
   "source": [
    "``` mysql\n",
    "SELECT\n",
    "  o.service_id,\n",
    "  o.user_segment,\n",
    "  pd.fuel_id,\n",
    "  COUNT(o.order_id) AS total_orders,\n",
    "  COUNT(p.payment_item_id) AS total_payments,\n",
    "  CAST(COUNT(p.payment_item_id) AS FLOAT) / COUNT(o.order_id) AS conversion,\n",
    "  SUM(p.amount) / COUNT(DISTINCT o.order_id) AS ARPO\n",
    "FROM\n",
    "  orders o\n",
    "  LEFT JOIN payments p ON o.order_id = p.order_id\n",
    "  INNER JOIN proposal_detail pd ON o.proposal_id = pd.proposal_id\n",
    "WHERE\n",
    "  o.created_at >= NOW() - INTERVAL '30 days'\n",
    "GROUP BY\n",
    "  o.service_id,\n",
    "  o.user_segment,\n",
    "  pd.fuel_id;\n",
    "```"
   ]
  },
  {
   "cell_type": "markdown",
   "id": "83a3e715",
   "metadata": {},
   "source": [
    "# SQL query #2"
   ]
  },
  {
   "cell_type": "markdown",
   "id": "8d072c2c",
   "metadata": {},
   "source": [
    "``` mysql\n",
    "SELECT\n",
    "  o.service_id,\n",
    "  o.user_segment,\n",
    "  pd.fuel_id,\n",
    "  COUNT(o.order_id) AS total_orders,\n",
    "  COUNT(p.payment_item_id) AS total_payments,\n",
    "  CAST(COUNT(p.payment_item_id) AS FLOAT) / COUNT(o.order_id) AS conversion,\n",
    "  SUM(p.amount) / COUNT(DISTINCT o.order_id) AS ARPO\n",
    "FROM\n",
    "  orders o\n",
    "  LEFT JOIN payments p ON o.order_id = p.order_id\n",
    "  INNER JOIN proposal_detail pd ON o.proposal_id = pd.proposal_id\n",
    "WHERE\n",
    "  o.created_at >= NOW() - INTERVAL '30 days'\n",
    "GROUP BY\n",
    "  o.service_id,\n",
    "  o.user_segment,\n",
    "  pd.fuel_id;\n",
    "```"
   ]
  },
  {
   "cell_type": "markdown",
   "id": "b6240563",
   "metadata": {},
   "source": [
    "# SQL query #3"
   ]
  },
  {
   "cell_type": "markdown",
   "id": "cb8f0926",
   "metadata": {},
   "source": [
    "``` mysql\n",
    "SELECT\n",
    "  pd.state_id,\n",
    "  pd.transport_type_id,\n",
    "  CAST(COUNT(p.payment_item_id) AS FLOAT) / COUNT(o.order_id) AS conversion_rate\n",
    "FROM\n",
    "  proposal_detail pd\n",
    "JOIN\n",
    "  orders o ON pd.proposal_id = o.proposal_id\n",
    "LEFT JOIN\n",
    "  payments p ON o.order_id = p.order_id AND p.created_at BETWEEN o.created_at AND o.created_at + INTERVAL '30 days'\n",
    "WHERE\n",
    "  o.created_at >= CURRENT_DATE - INTERVAL '30 days'\n",
    "GROUP BY\n",
    "  pd.state_id, pd.transport_type_id\n",
    "ORDER BY\n",
    "  pd.state_id, conversion_rate DESC;\n",
    "\n",
    "```"
   ]
  }
 ],
 "metadata": {
  "kernelspec": {
   "display_name": "Python 3 (ipykernel)",
   "language": "python",
   "name": "python3"
  },
  "language_info": {
   "codemirror_mode": {
    "name": "ipython",
    "version": 3
   },
   "file_extension": ".py",
   "mimetype": "text/x-python",
   "name": "python",
   "nbconvert_exporter": "python",
   "pygments_lexer": "ipython3",
   "version": "3.9.13"
  }
 },
 "nbformat": 4,
 "nbformat_minor": 5
}
